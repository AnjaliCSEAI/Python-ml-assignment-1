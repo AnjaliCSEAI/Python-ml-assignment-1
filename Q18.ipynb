{
  "nbformat": 4,
  "nbformat_minor": 0,
  "metadata": {
    "colab": {
      "provenance": [],
      "authorship_tag": "ABX9TyMCao8H7YkJNF3xrXOtFD94",
      "include_colab_link": true
    },
    "kernelspec": {
      "name": "python3",
      "display_name": "Python 3"
    },
    "language_info": {
      "name": "python"
    }
  },
  "cells": [
    {
      "cell_type": "markdown",
      "metadata": {
        "id": "view-in-github",
        "colab_type": "text"
      },
      "source": [
        "<a href=\"https://colab.research.google.com/github/AnjaliCSEAI/Python-ml-assignment-1/blob/main/Q18.ipynb\" target=\"_parent\"><img src=\"https://colab.research.google.com/assets/colab-badge.svg\" alt=\"Open In Colab\"/></a>"
      ]
    },
    {
      "cell_type": "code",
      "execution_count": 2,
      "metadata": {
        "colab": {
          "base_uri": "https://localhost:8080/"
        },
        "id": "LNzmjNjKhtcc",
        "outputId": "1d6e9bb6-8d8d-460a-f984-cf2734352c73"
      },
      "outputs": [
        {
          "output_type": "stream",
          "name": "stdout",
          "text": [
            "True\n"
          ]
        }
      ],
      "source": [
        "def are_anagrams(str1, str2):\n",
        "    return sorted(str1) == sorted(str2)\n",
        "\n",
        "\n",
        "string1 = \"listen\"\n",
        "string2 = \"silent\"\n",
        "print(are_anagrams(string1, string2))"
      ]
    }
  ]
}