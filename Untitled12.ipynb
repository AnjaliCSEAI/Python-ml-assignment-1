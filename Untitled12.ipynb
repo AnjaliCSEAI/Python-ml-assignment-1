{
  "nbformat": 4,
  "nbformat_minor": 0,
  "metadata": {
    "colab": {
      "provenance": [],
      "authorship_tag": "ABX9TyP11JJQqlxGrViBC1aq3/o/",
      "include_colab_link": true
    },
    "kernelspec": {
      "name": "python3",
      "display_name": "Python 3"
    },
    "language_info": {
      "name": "python"
    }
  },
  "cells": [
    {
      "cell_type": "markdown",
      "metadata": {
        "id": "view-in-github",
        "colab_type": "text"
      },
      "source": [
        "<a href=\"https://colab.research.google.com/github/AnjaliCSEAI/Python-ml-assignment-1/blob/main/Untitled12.ipynb\" target=\"_parent\"><img src=\"https://colab.research.google.com/assets/colab-badge.svg\" alt=\"Open In Colab\"/></a>"
      ]
    },
    {
      "cell_type": "code",
      "execution_count": 3,
      "metadata": {
        "colab": {
          "base_uri": "https://localhost:8080/"
        },
        "id": "SpXoym9jQ8IN",
        "outputId": "b9345783-182f-40ca-e976-9ba70e9937ca"
      },
      "outputs": [
        {
          "output_type": "stream",
          "name": "stdout",
          "text": [
            "Content of the file is:\n",
            "Djdjd\n"
          ]
        }
      ],
      "source": [
        "\n",
        "with open(\"file.txt\", \"r\") as file:\n",
        "    content = file.read()\n",
        "    print(\"Content of the file is:\")\n",
        "    print(content)"
      ]
    },
    {
      "cell_type": "code",
      "source": [
        "A= input(\"Enter a string: \")\n",
        "with open(\"file.txt\", \"w\") as file:\n",
        "    file.write(A)\n",
        "print(\"String written to file\")"
      ],
      "metadata": {
        "colab": {
          "base_uri": "https://localhost:8080/"
        },
        "id": "uRGeTwYzRLhB",
        "outputId": "8a4e846c-ac21-430c-f94e-81368bcb52ec"
      },
      "execution_count": 2,
      "outputs": [
        {
          "output_type": "stream",
          "name": "stdout",
          "text": [
            "Enter a string: Djdjd\n",
            "String written to file\n"
          ]
        }
      ]
    }
  ]
}