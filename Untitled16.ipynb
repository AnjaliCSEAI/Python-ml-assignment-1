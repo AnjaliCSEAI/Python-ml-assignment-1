{
  "nbformat": 4,
  "nbformat_minor": 0,
  "metadata": {
    "colab": {
      "provenance": [],
      "authorship_tag": "ABX9TyM7thbbv9mb2IQAtis3qF+G",
      "include_colab_link": true
    },
    "kernelspec": {
      "name": "python3",
      "display_name": "Python 3"
    },
    "language_info": {
      "name": "python"
    }
  },
  "cells": [
    {
      "cell_type": "markdown",
      "metadata": {
        "id": "view-in-github",
        "colab_type": "text"
      },
      "source": [
        "<a href=\"https://colab.research.google.com/github/AnjaliCSEAI/Python-ml-assignment-1/blob/main/Untitled16.ipynb\" target=\"_parent\"><img src=\"https://colab.research.google.com/assets/colab-badge.svg\" alt=\"Open In Colab\"/></a>"
      ]
    },
    {
      "cell_type": "code",
      "execution_count": 1,
      "metadata": {
        "colab": {
          "base_uri": "https://localhost:8080/"
        },
        "id": "cqoQGGGRUhk3",
        "outputId": "16f8370f-a199-458b-f6d7-5ef863ea8657"
      },
      "outputs": [
        {
          "output_type": "stream",
          "name": "stdout",
          "text": [
            "Enter the number of terms: 4\n",
            "The first 4 numbers in the Fibonacci sequence are: [0, 1, 1, 2]\n"
          ]
        }
      ],
      "source": [
        "# Program to generate Fibonacci sequence\n",
        "def fibonacci(n):\n",
        "    sequence = []\n",
        "    a, b = 0, 1\n",
        "    for _ in range(n):\n",
        "        sequence.append(a)\n",
        "        a, b = b, a + b\n",
        "    return sequence\n",
        "\n",
        "n = int(input(\"Enter the number of terms: \"))\n",
        "print(f\"The first {n} numbers in the Fibonacci sequence are: {fibonacci(n)}\")"
      ]
    }
  ]
}