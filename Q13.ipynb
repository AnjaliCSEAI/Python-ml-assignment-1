{
  "nbformat": 4,
  "nbformat_minor": 0,
  "metadata": {
    "colab": {
      "provenance": [],
      "authorship_tag": "ABX9TyOq289NihCQ4ON4rrXaA0oV",
      "include_colab_link": true
    },
    "kernelspec": {
      "name": "python3",
      "display_name": "Python 3"
    },
    "language_info": {
      "name": "python"
    }
  },
  "cells": [
    {
      "cell_type": "markdown",
      "metadata": {
        "id": "view-in-github",
        "colab_type": "text"
      },
      "source": [
        "<a href=\"https://colab.research.google.com/github/AnjaliCSEAI/Python-ml-assignment-1/blob/main/Q13.ipynb\" target=\"_parent\"><img src=\"https://colab.research.google.com/assets/colab-badge.svg\" alt=\"Open In Colab\"/></a>"
      ]
    },
    {
      "cell_type": "code",
      "execution_count": 1,
      "metadata": {
        "colab": {
          "base_uri": "https://localhost:8080/"
        },
        "id": "pRZ0EVy2XRhV",
        "outputId": "a76992b1-a000-4c6e-9629-d2fd7e69ddae"
      },
      "outputs": [
        {
          "output_type": "stream",
          "name": "stdout",
          "text": [
            "enter your birth  year : 2005\n",
            " enter present year ; 2024\n",
            "19  Is your age \n"
          ]
        }
      ],
      "source": [
        "S=int(input('enter your birth  year : '))\n",
        "P=int(input(\" enter present year ; \"))\n",
        "D=P-S\n",
        "print(D ,\" Is your age \")"
      ]
    }
  ]
}