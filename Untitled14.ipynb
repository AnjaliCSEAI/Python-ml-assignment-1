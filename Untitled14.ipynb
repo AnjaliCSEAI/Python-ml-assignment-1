{
  "nbformat": 4,
  "nbformat_minor": 0,
  "metadata": {
    "colab": {
      "provenance": [],
      "authorship_tag": "ABX9TyN95ANeLhM7xADvuZKAnYaJ",
      "include_colab_link": true
    },
    "kernelspec": {
      "name": "python3",
      "display_name": "Python 3"
    },
    "language_info": {
      "name": "python"
    }
  },
  "cells": [
    {
      "cell_type": "markdown",
      "metadata": {
        "id": "view-in-github",
        "colab_type": "text"
      },
      "source": [
        "<a href=\"https://colab.research.google.com/github/AnjaliCSEAI/Python-ml-assignment-1/blob/main/Untitled14.ipynb\" target=\"_parent\"><img src=\"https://colab.research.google.com/assets/colab-badge.svg\" alt=\"Open In Colab\"/></a>"
      ]
    },
    {
      "cell_type": "code",
      "execution_count": 1,
      "metadata": {
        "colab": {
          "base_uri": "https://localhost:8080/"
        },
        "id": "3hYMfeO-Shoq",
        "outputId": "67d29355-2e6a-451a-e0ed-0a2e1f56efcd"
      },
      "outputs": [
        {
          "output_type": "stream",
          "name": "stdout",
          "text": [
            "Enter the main string: Machine\n",
            "Enter the substring: Chine\n",
            "Substring is not present in the string.\n"
          ]
        }
      ],
      "source": [
        "\n",
        "string = input(\"Enter the main string: \")\n",
        "substring = input(\"Enter the substring: \")\n",
        "if substring in string:\n",
        "    print(\"Substring is present in the string.\")\n",
        "else:\n",
        "    print(\"Substring is not present in the string.\")"
      ]
    }
  ]
}