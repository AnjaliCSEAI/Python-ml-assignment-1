{
  "nbformat": 4,
  "nbformat_minor": 0,
  "metadata": {
    "colab": {
      "provenance": [],
      "authorship_tag": "ABX9TyMW6mgIqJbWgt1s3PU/YgvW",
      "include_colab_link": true
    },
    "kernelspec": {
      "name": "python3",
      "display_name": "Python 3"
    },
    "language_info": {
      "name": "python"
    }
  },
  "cells": [
    {
      "cell_type": "markdown",
      "metadata": {
        "id": "view-in-github",
        "colab_type": "text"
      },
      "source": [
        "<a href=\"https://colab.research.google.com/github/AnjaliCSEAI/Python-ml-assignment-1/blob/main/Untitled7.ipynb\" target=\"_parent\"><img src=\"https://colab.research.google.com/assets/colab-badge.svg\" alt=\"Open In Colab\"/></a>"
      ]
    },
    {
      "cell_type": "code",
      "execution_count": null,
      "metadata": {
        "colab": {
          "base_uri": "https://localhost:8080/"
        },
        "id": "ggIO1Z7Oa431",
        "outputId": "e40e83e3-3031-4b3f-f4a7-d8231c967868"
      },
      "outputs": [
        {
          "output_type": "stream",
          "name": "stdout",
          "text": [
            "enter no. 4\n",
            "enter no. 2.3\n",
            "sum of 4.0 and 2.3 is: 6.3\n"
          ]
        }
      ],
      "source": [
        "a = float(input(\"enter no. \"))\n",
        "b = float(input(\"enter no. \"))\n",
        "\n",
        "Sum = a + b\n",
        "print(\"sum of {} and {} is: {}\".format(a, b, Sum))"
      ]
    },
    {
      "cell_type": "code",
      "source": [
        "# Program to check if a number is even or odd\n",
        "number = int(input(\"Enter a number: \"))\n",
        "if number % 2 == 0:\n",
        "    print(f\"{number} is even.\")\n",
        "else:\n",
        "    print(f\"{number} is odd.\")"
      ],
      "metadata": {
        "id": "WNxBFgWSfTD9",
        "colab": {
          "base_uri": "https://localhost:8080/"
        },
        "outputId": "5d4d1499-ac3b-4040-f095-1f5d77779bdf"
      },
      "execution_count": null,
      "outputs": [
        {
          "output_type": "stream",
          "name": "stdout",
          "text": [
            "Enter a number: 48882\n",
            "48882 is even.\n"
          ]
        }
      ]
    },
    {
      "cell_type": "markdown",
      "source": [],
      "metadata": {
        "id": "H9fMN5HVfEoU"
      }
    },
    {
      "cell_type": "code",
      "source": [
        "# Program to calculate factorial\n",
        "\n",
        "def factorial(n):\n",
        "    if n == 0:\n",
        "        return 1\n",
        "    else:\n",
        "        return n * factorial(n - 1)\n",
        "\n",
        "number = int(input(\"Enter a number: \"))\n",
        "print(f\"The factorial of {number} is {factorial(number)}\")"
      ],
      "metadata": {
        "colab": {
          "base_uri": "https://localhost:8080/"
        },
        "id": "QzWraTLHl2sk",
        "outputId": "bc912eb4-aeba-4ef6-aef3-1c26e138e2a4"
      },
      "execution_count": null,
      "outputs": [
        {
          "output_type": "stream",
          "name": "stdout",
          "text": [
            "Enter a number: 5\n",
            "The factorial of 5 is 120\n"
          ]
        }
      ]
    },
    {
      "cell_type": "code",
      "source": [
        "a=input(\"enter your name : \")\n",
        "print(f\" Welcome {a}\")"
      ],
      "metadata": {
        "colab": {
          "base_uri": "https://localhost:8080/"
        },
        "id": "Kijtd0yZnalP",
        "outputId": "2f6d4663-41c1-4775-d50e-6a7789e065ad"
      },
      "execution_count": null,
      "outputs": [
        {
          "output_type": "stream",
          "name": "stdout",
          "text": [
            "enter your name : Anjali\n",
            " Welcome Anjali\n"
          ]
        }
      ]
    },
    {
      "cell_type": "code",
      "source": [
        "A= input(\"Enter a string: \")\n",
        "with open(\"file.txt\", \"w\") as file:\n",
        "    file.write(A)\n",
        "print(\"String written to file\")"
      ],
      "metadata": {
        "colab": {
          "base_uri": "https://localhost:8080/"
        },
        "id": "91lIYGGQoOkk",
        "outputId": "f9a7d99f-4534-43bc-c2ae-be3895219e82"
      },
      "execution_count": null,
      "outputs": [
        {
          "output_type": "stream",
          "name": "stdout",
          "text": [
            "Enter a string: Jddj\n",
            "String written to file\n"
          ]
        }
      ]
    },
    {
      "cell_type": "code",
      "source": [
        "\n",
        "\n",
        "with open(\"file.txt\", \"r\") as file:\n",
        "    content = file.read()\n",
        "    print(\"Content of the file is:\")\n",
        "    print(content)"
      ],
      "metadata": {
        "colab": {
          "base_uri": "https://localhost:8080/"
        },
        "id": "X4MSYl31o_pm",
        "outputId": "6d3d1d38-0782-4e06-8e56-c630dd433233"
      },
      "execution_count": null,
      "outputs": [
        {
          "output_type": "stream",
          "name": "stdout",
          "text": [
            "Content of the file is:\n",
            "Jddj\n"
          ]
        }
      ]
    },
    {
      "cell_type": "code",
      "source": [
        "An=input(\"enter a string: \")\n",
        "print(len(An))"
      ],
      "metadata": {
        "colab": {
          "base_uri": "https://localhost:8080/"
        },
        "id": "y19MuSfYp7km",
        "outputId": "e2470ca2-26ab-456c-cb6b-4f00dc337876"
      },
      "execution_count": null,
      "outputs": [
        {
          "output_type": "stream",
          "name": "stdout",
          "text": [
            "enter a string: Ridigigdkao\n",
            "11\n"
          ]
        }
      ]
    },
    {
      "cell_type": "code",
      "source": [
        "D=input(\"enter a string \")\n",
        "E=input(\"enter one more string to conacatenate : \")\n",
        "Z=D+ \" \" +E\n",
        "\n",
        "print(Z)"
      ],
      "metadata": {
        "colab": {
          "base_uri": "https://localhost:8080/"
        },
        "id": "WKqteZMUqyia",
        "outputId": "b46bab4c-c5d6-4041-ac0f-e6ad4bcc07eb"
      },
      "execution_count": null,
      "outputs": [
        {
          "output_type": "stream",
          "name": "stdout",
          "text": [
            "enter a string Dj\n",
            "enter one more string to conacatenate : Vk\n",
            "Dj Vk\n"
          ]
        }
      ]
    },
    {
      "cell_type": "code",
      "source": [
        "\n",
        "string = input(\"Enter the main string: \")\n",
        "substring = input(\"Enter the substring: \")\n",
        "if substring in string:\n",
        "    print(\"Substring is present in the string.\")\n",
        "else:\n",
        "    print(\"Substring is not present in the string.\")"
      ],
      "metadata": {
        "colab": {
          "base_uri": "https://localhost:8080/"
        },
        "id": "WFChd1FDr3Ui",
        "outputId": "905de608-2eb5-4b06-c081-81425b6502a5"
      },
      "execution_count": null,
      "outputs": [
        {
          "output_type": "stream",
          "name": "stdout",
          "text": [
            "Enter the main string: Dckck\n",
            "Enter the substring: C\n",
            "Substring is not present in the string.\n"
          ]
        }
      ]
    },
    {
      "cell_type": "code",
      "source": [
        "S=input(\"enter stirng\")\n",
        "print(S.upper())"
      ],
      "metadata": {
        "colab": {
          "base_uri": "https://localhost:8080/"
        },
        "id": "Dg-4mCXTsT9f",
        "outputId": "75114099-729f-4326-efe8-54cf1b4fc6ef"
      },
      "execution_count": null,
      "outputs": [
        {
          "output_type": "stream",
          "name": "stdout",
          "text": [
            "enter stirngIcicixzo\n",
            "ICICIXZO\n"
          ]
        }
      ]
    },
    {
      "cell_type": "code",
      "source": [
        "# Program to generate Fibonacci sequence\n",
        "def fibonacci(n):\n",
        "    sequence = []\n",
        "    a, b = 0, 1\n",
        "    for _ in range(n):\n",
        "        sequence.append(a)\n",
        "        a, b = b, a + b\n",
        "    return sequence\n",
        "\n",
        "n = int(input(\"Enter the number of terms: \"))\n",
        "print(f\"The first {n} numbers in the Fibonacci sequence are: {fibonacci(n)}\")"
      ],
      "metadata": {
        "colab": {
          "base_uri": "https://localhost:8080/"
        },
        "id": "EBfu1WgYux4c",
        "outputId": "64fcfb52-3db7-48bd-8032-e6d9d350fb57"
      },
      "execution_count": null,
      "outputs": [
        {
          "output_type": "stream",
          "name": "stdout",
          "text": [
            "Enter the number of terms: 83\n",
            "The first 83 numbers in the Fibonacci sequence are: [0, 1, 1, 2, 3, 5, 8, 13, 21, 34, 55, 89, 144, 233, 377, 610, 987, 1597, 2584, 4181, 6765, 10946, 17711, 28657, 46368, 75025, 121393, 196418, 317811, 514229, 832040, 1346269, 2178309, 3524578, 5702887, 9227465, 14930352, 24157817, 39088169, 63245986, 102334155, 165580141, 267914296, 433494437, 701408733, 1134903170, 1836311903, 2971215073, 4807526976, 7778742049, 12586269025, 20365011074, 32951280099, 53316291173, 86267571272, 139583862445, 225851433717, 365435296162, 591286729879, 956722026041, 1548008755920, 2504730781961, 4052739537881, 6557470319842, 10610209857723, 17167680177565, 27777890035288, 44945570212853, 72723460248141, 117669030460994, 190392490709135, 308061521170129, 498454011879264, 806515533049393, 1304969544928657, 2111485077978050, 3416454622906707, 5527939700884757, 8944394323791464, 14472334024676221, 23416728348467685, 37889062373143906, 61305790721611591]\n"
          ]
        }
      ]
    },
    {
      "cell_type": "markdown",
      "source": [],
      "metadata": {
        "id": "GQRkWXCGfFxP"
      }
    },
    {
      "cell_type": "code",
      "source": [
        "Q = input(\"enter a no.-\")\n",
        "print(sum(int(i) for i in Q))"
      ],
      "metadata": {
        "id": "PXwisiFgvR6f",
        "colab": {
          "base_uri": "https://localhost:8080/"
        },
        "outputId": "9ffda765-4cc7-42b0-f15b-3b933dec8f20"
      },
      "execution_count": null,
      "outputs": [
        {
          "output_type": "stream",
          "name": "stdout",
          "text": [
            "enter a no.-75\n",
            "12\n"
          ]
        }
      ]
    },
    {
      "cell_type": "code",
      "source": [
        "S=int(input('enter your birth  year : '))\n",
        "P=int(input(\" enter present year ; \"))\n",
        "D=P-S\n",
        "print(D ,\" Is your age \")"
      ],
      "metadata": {
        "id": "xTM2883q7C2A",
        "colab": {
          "base_uri": "https://localhost:8080/"
        },
        "outputId": "d53526db-6dae-4d8d-ff50-fe7dae7c503a"
      },
      "execution_count": null,
      "outputs": [
        {
          "output_type": "stream",
          "name": "stdout",
          "text": [
            "enter your birth  year : 2005\n",
            " enter present year ; 2024\n",
            "19  Is your age \n"
          ]
        }
      ]
    }
  ]
}