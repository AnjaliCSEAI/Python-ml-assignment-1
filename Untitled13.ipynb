{
  "nbformat": 4,
  "nbformat_minor": 0,
  "metadata": {
    "colab": {
      "provenance": [],
      "authorship_tag": "ABX9TyPDFv7poZz/lZH9z/RDz0eG",
      "include_colab_link": true
    },
    "kernelspec": {
      "name": "python3",
      "display_name": "Python 3"
    },
    "language_info": {
      "name": "python"
    }
  },
  "cells": [
    {
      "cell_type": "markdown",
      "metadata": {
        "id": "view-in-github",
        "colab_type": "text"
      },
      "source": [
        "<a href=\"https://colab.research.google.com/github/AnjaliCSEAI/Python-ml-assignment-1/blob/main/Untitled13.ipynb\" target=\"_parent\"><img src=\"https://colab.research.google.com/assets/colab-badge.svg\" alt=\"Open In Colab\"/></a>"
      ]
    },
    {
      "cell_type": "code",
      "execution_count": 1,
      "metadata": {
        "colab": {
          "base_uri": "https://localhost:8080/"
        },
        "id": "EtB8QTjMR_A8",
        "outputId": "9bc48124-9afe-4b9f-8b29-e2049a6fa1a8"
      },
      "outputs": [
        {
          "output_type": "stream",
          "name": "stdout",
          "text": [
            "enter a string Machine\n",
            "enter one more string to conacatenate : Learning\n",
            "Machine Learning\n"
          ]
        }
      ],
      "source": [
        "LearD=input(\"enter a string \")\n",
        "E=input(\"enter one more string to conacatenate : \")\n",
        "Z=D+ \" \" +E\n",
        "\n",
        "print(Z)"
      ]
    }
  ]
}