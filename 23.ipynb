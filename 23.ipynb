{
  "nbformat": 4,
  "nbformat_minor": 0,
  "metadata": {
    "colab": {
      "provenance": [],
      "authorship_tag": "ABX9TyM3YZzY7YjEWGa6rCuFzLaO",
      "include_colab_link": true
    },
    "kernelspec": {
      "name": "python3",
      "display_name": "Python 3"
    },
    "language_info": {
      "name": "python"
    }
  },
  "cells": [
    {
      "cell_type": "markdown",
      "metadata": {
        "id": "view-in-github",
        "colab_type": "text"
      },
      "source": [
        "<a href=\"https://colab.research.google.com/github/AnjaliCSEAI/Python-ml-assignment-1/blob/main/23.ipynb\" target=\"_parent\"><img src=\"https://colab.research.google.com/assets/colab-badge.svg\" alt=\"Open In Colab\"/></a>"
      ]
    },
    {
      "cell_type": "code",
      "execution_count": 2,
      "metadata": {
        "colab": {
          "base_uri": "https://localhost:8080/"
        },
        "id": "Z0s_CAobnT9Y",
        "outputId": "938e1ed6-cb93-4116-b4a4-da8094b2073d"
      },
      "outputs": [
        {
          "output_type": "stream",
          "name": "stdout",
          "text": [
            "Enter temperature: 27\n",
            "Enter unit (C for Celsius, F for Fahrenheit): C\n",
            "27.0°C is 80.6°F\n"
          ]
        }
      ],
      "source": [
        "def celsius_to_fahrenheit(celsius):\n",
        "    return (celsius * 9/5) + 32\n",
        "\n",
        "def fahrenheit_to_celsius(fahrenheit):\n",
        "    return (fahrenheit - 32) * 5/9\n",
        "\n",
        "\n",
        "temp = float(input(\"Enter temperature: \"))\n",
        "unit = input(\"Enter unit (C for Celsius, F for Fahrenheit): \").upper()\n",
        "\n",
        "if unit == 'C':\n",
        "    print(f\"{temp}°C is {celsius_to_fahrenheit(temp)}°F\")\n",
        "elif unit == 'F':\n",
        "    print(f\"{temp}°F is {fahrenheit_to_celsius(temp)}°C\")\n",
        "else:\n",
        "    print(\"Invalid unit\")"
      ]
    }
  ]
}