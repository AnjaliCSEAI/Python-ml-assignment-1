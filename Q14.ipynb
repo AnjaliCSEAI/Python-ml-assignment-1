{
  "nbformat": 4,
  "nbformat_minor": 0,
  "metadata": {
    "colab": {
      "provenance": [],
      "authorship_tag": "ABX9TyOW4cH/Ip9NUODT0RL3oRW3",
      "include_colab_link": true
    },
    "kernelspec": {
      "name": "python3",
      "display_name": "Python 3"
    },
    "language_info": {
      "name": "python"
    }
  },
  "cells": [
    {
      "cell_type": "markdown",
      "metadata": {
        "id": "view-in-github",
        "colab_type": "text"
      },
      "source": [
        "<a href=\"https://colab.research.google.com/github/AnjaliCSEAI/Python-ml-assignment-1/blob/main/Q14.ipynb\" target=\"_parent\"><img src=\"https://colab.research.google.com/assets/colab-badge.svg\" alt=\"Open In Colab\"/></a>"
      ]
    },
    {
      "cell_type": "code",
      "execution_count": 1,
      "metadata": {
        "colab": {
          "base_uri": "https://localhost:8080/"
        },
        "id": "dPkJGtB7bu3B",
        "outputId": "56ba2602-d3cc-4a47-db8a-c2584a371516"
      },
      "outputs": [
        {
          "output_type": "stream",
          "name": "stdout",
          "text": [
            "Enter a line (or press Enter to finish): Djc\n",
            "Enter a line (or press Enter to finish): Dkdk\n",
            "Enter a line (or press Enter to finish): \n",
            "You entered:\n",
            "Djc\n",
            "Dkdk\n"
          ]
        }
      ],
      "source": [
        "def read_and_print_lines():\n",
        "    lines = []\n",
        "    while True:\n",
        "        line = input(\"Enter a line (or press Enter to finish): \")\n",
        "        if line == \"\":\n",
        "            break\n",
        "        lines.append(line)\n",
        "\n",
        "    print(\"You entered:\")\n",
        "    for line in lines:\n",
        "        print(line)\n",
        "\n",
        "read_and_print_lines()"
      ]
    }
  ]
}