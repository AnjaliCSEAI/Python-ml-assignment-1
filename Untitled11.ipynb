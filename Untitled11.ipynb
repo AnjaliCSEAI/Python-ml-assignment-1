{
  "nbformat": 4,
  "nbformat_minor": 0,
  "metadata": {
    "colab": {
      "provenance": [],
      "authorship_tag": "ABX9TyOWS3gz4c3/vAaVxuwIG7Um",
      "include_colab_link": true
    },
    "kernelspec": {
      "name": "python3",
      "display_name": "Python 3"
    },
    "language_info": {
      "name": "python"
    }
  },
  "cells": [
    {
      "cell_type": "markdown",
      "metadata": {
        "id": "view-in-github",
        "colab_type": "text"
      },
      "source": [
        "<a href=\"https://colab.research.google.com/github/AnjaliCSEAI/Python-ml-assignment-1/blob/main/Untitled11.ipynb\" target=\"_parent\"><img src=\"https://colab.research.google.com/assets/colab-badge.svg\" alt=\"Open In Colab\"/></a>"
      ]
    },
    {
      "cell_type": "code",
      "execution_count": 1,
      "metadata": {
        "colab": {
          "base_uri": "https://localhost:8080/"
        },
        "id": "yXo3pPtkQQV9",
        "outputId": "ed5f1a4f-89bd-41cd-8a00-5289bcefc677"
      },
      "outputs": [
        {
          "output_type": "stream",
          "name": "stdout",
          "text": [
            "Enter a string: Dud\n",
            "String written to file\n"
          ]
        }
      ],
      "source": [
        "A= input(\"Enter a string: \")\n",
        "with open(\"file.txt\", \"w\") as file:\n",
        "    file.write(A)\n",
        "print(\"String written to file\")"
      ]
    }
  ]
}