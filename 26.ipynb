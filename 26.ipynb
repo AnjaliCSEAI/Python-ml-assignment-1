{
  "nbformat": 4,
  "nbformat_minor": 0,
  "metadata": {
    "colab": {
      "provenance": [],
      "authorship_tag": "ABX9TyOfto6rHI+9UKd86Q0I/K2H",
      "include_colab_link": true
    },
    "kernelspec": {
      "name": "python3",
      "display_name": "Python 3"
    },
    "language_info": {
      "name": "python"
    }
  },
  "cells": [
    {
      "cell_type": "markdown",
      "metadata": {
        "id": "view-in-github",
        "colab_type": "text"
      },
      "source": [
        "<a href=\"https://colab.research.google.com/github/AnjaliCSEAI/Python-ml-assignment-1/blob/main/26.ipynb\" target=\"_parent\"><img src=\"https://colab.research.google.com/assets/colab-badge.svg\" alt=\"Open In Colab\"/></a>"
      ]
    },
    {
      "cell_type": "code",
      "source": [
        "\n",
        "def check_prefix_suffix(string, prefix, suffix):\n",
        "    starts_with = string.startswith(prefix)\n",
        "    ends_with = string.endswith(suffix)\n",
        "    return starts_with, ends_with\n",
        "\n",
        "string = \"hello world\"\n",
        "prefix = \"hello\"\n",
        "suffix = \"jduj\"\n",
        "starts, ends = check_prefix_suffix(string, prefix, suffix)\n",
        "print(f\"Starts with '{prefix}': {starts}\")\n",
        "print(f\"Ends with '{suffix}': {ends}\")"
      ],
      "metadata": {
        "colab": {
          "base_uri": "https://localhost:8080/"
        },
        "id": "iaL3iKfyo6MV",
        "outputId": "cc7fb1c0-7867-47d6-93b9-a8059b972139"
      },
      "execution_count": 3,
      "outputs": [
        {
          "output_type": "stream",
          "name": "stdout",
          "text": [
            "Starts with 'hello': True\n",
            "Ends with 'jduj': False\n"
          ]
        }
      ]
    }
  ]
}