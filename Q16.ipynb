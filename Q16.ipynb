{
  "nbformat": 4,
  "nbformat_minor": 0,
  "metadata": {
    "colab": {
      "provenance": [],
      "authorship_tag": "ABX9TyPK+89FeoEZOMDQYndEXuxN",
      "include_colab_link": true
    },
    "kernelspec": {
      "name": "python3",
      "display_name": "Python 3"
    },
    "language_info": {
      "name": "python"
    }
  },
  "cells": [
    {
      "cell_type": "markdown",
      "metadata": {
        "id": "view-in-github",
        "colab_type": "text"
      },
      "source": [
        "<a href=\"https://colab.research.google.com/github/AnjaliCSEAI/Python-ml-assignment-1/blob/main/Q16.ipynb\" target=\"_parent\"><img src=\"https://colab.research.google.com/assets/colab-badge.svg\" alt=\"Open In Colab\"/></a>"
      ]
    },
    {
      "cell_type": "code",
      "execution_count": 3,
      "metadata": {
        "colab": {
          "base_uri": "https://localhost:8080/"
        },
        "id": "Cq4izCDRg_G1",
        "outputId": "4ff37af2-f805-4050-b792-beffd8f5fb14"
      },
      "outputs": [
        {
          "output_type": "stream",
          "name": "stdout",
          "text": [
            "{'d': 5, 'j': 2, 'i': 2, 'c': 1, 'k': 3, ' ': 1, 's': 1, 'f': 1}\n"
          ]
        }
      ],
      "source": [
        "def countfrequency(s):\n",
        "    frequency = {}\n",
        "    for char in s:\n",
        "        if char in frequency:\n",
        "            frequency[char] += 1\n",
        "        else:\n",
        "            frequency[char] = 1\n",
        "    return frequency\n",
        "\n",
        "\n",
        "string = \"djdjdick kdisfkd\"\n",
        "print(countfrequency(string))"
      ]
    }
  ]
}