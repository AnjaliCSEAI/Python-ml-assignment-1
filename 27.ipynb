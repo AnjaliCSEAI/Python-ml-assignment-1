{
  "nbformat": 4,
  "nbformat_minor": 0,
  "metadata": {
    "colab": {
      "provenance": [],
      "authorship_tag": "ABX9TyPgT7jh3640CY/7PFYoFkJ1",
      "include_colab_link": true
    },
    "kernelspec": {
      "name": "python3",
      "display_name": "Python 3"
    },
    "language_info": {
      "name": "python"
    }
  },
  "cells": [
    {
      "cell_type": "markdown",
      "metadata": {
        "id": "view-in-github",
        "colab_type": "text"
      },
      "source": [
        "<a href=\"https://colab.research.google.com/github/AnjaliCSEAI/Python-ml-assignment-1/blob/main/27.ipynb\" target=\"_parent\"><img src=\"https://colab.research.google.com/assets/colab-badge.svg\" alt=\"Open In Colab\"/></a>"
      ]
    },
    {
      "cell_type": "code",
      "execution_count": 3,
      "metadata": {
        "colab": {
          "base_uri": "https://localhost:8080/"
        },
        "id": "3um8pMGXqhrU",
        "outputId": "410c35e1-7ef5-40a4-91fd-4c0237cae55d"
      },
      "outputs": [
        {
          "output_type": "stream",
          "name": "stdout",
          "text": [
            "enter a string Anjali\n",
            "The list of characters is: ['A', 'n', 'j', 'a', 'l', 'i']\n"
          ]
        }
      ],
      "source": [
        "def string_to_list(string):\n",
        "    return list(string)\n",
        "\n",
        "\n",
        "string =input(\"enter a string \")\n",
        "char_list = string_to_list(string)\n",
        "print(f\"The list of characters is: {char_list}\")"
      ]
    }
  ]
}